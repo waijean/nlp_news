{
 "cells": [
  {
   "cell_type": "code",
   "execution_count": null,
   "metadata": {},
   "outputs": [],
   "source": [
    "import pandas as pd\n",
    "import numpy as np\n",
    "import plotly.graph_objects as go\n",
    "from datetime import datetime\n",
    "import plotly.figure_factory as ff\n",
    "\n",
    "%load_ext nb_black"
   ]
  },
  {
   "cell_type": "code",
   "execution_count": null,
   "metadata": {},
   "outputs": [],
   "source": [
    "df = pd.read_csv(\n",
    "    \"../data_pipeline/data/VEVE_HistoricPrices_20141001-20200505.csv\",\n",
    "    thousands=\",\",\n",
    "    parse_dates=[\"Date\"],\n",
    "    date_parser=lambda x: datetime.strptime(x, \"%d/%m/%Y\"),\n",
    ")"
   ]
  },
  {
   "cell_type": "code",
   "execution_count": null,
   "metadata": {},
   "outputs": [],
   "source": [
    "df.info()"
   ]
  },
  {
   "cell_type": "code",
   "execution_count": null,
   "metadata": {},
   "outputs": [],
   "source": [
    "df.head(10)"
   ]
  },
  {
   "cell_type": "code",
   "execution_count": null,
   "metadata": {},
   "outputs": [],
   "source": [
    "df[df.Close == 0]"
   ]
  },
  {
   "cell_type": "code",
   "execution_count": null,
   "metadata": {},
   "outputs": [],
   "source": [
    "def impute_missing_open_with_previous_close(df):\n",
    "    new_df = df.assign(\n",
    "        Previous_Close=lambda x: x.sort_values(by=[\"Date\"]).Close.shift(\n",
    "            periods=1, fill_value=0\n",
    "        )\n",
    "    )\n",
    "    mask = new_df[\"Open\"] == 0\n",
    "    print(f\"Number of rows with missing open: {new_df[mask].shape[0]}\")\n",
    "    new_df[\"Open\"] = new_df[\"Open\"].where(~mask, new_df[\"Previous_Close\"])\n",
    "    return new_df"
   ]
  },
  {
   "cell_type": "code",
   "execution_count": null,
   "metadata": {},
   "outputs": [],
   "source": [
    "def remove_zero_volume_rows(df):\n",
    "    mask = df[\"Volume\"] == 0\n",
    "    print(f\"Number of rows with zero volume: {df[mask].shape[0]}\")\n",
    "    new_df = df[~mask]\n",
    "    return new_df"
   ]
  },
  {
   "cell_type": "code",
   "execution_count": null,
   "metadata": {},
   "outputs": [],
   "source": [
    "processed_df = df.pipe(impute_missing_open_with_previous_close).pipe(\n",
    "    remove_zero_volume_rows\n",
    ")"
   ]
  },
  {
   "cell_type": "code",
   "execution_count": null,
   "metadata": {},
   "outputs": [],
   "source": [
    "fig = go.Figure(\n",
    "    data=go.Scatter(x=processed_df.Date, y=processed_df.Close, mode=\"lines\")\n",
    ")\n",
    "fig.update_layout(title_text=\"Time Series Plot for Stock Price\")\n",
    "fig.show()"
   ]
  },
  {
   "cell_type": "code",
   "execution_count": null,
   "metadata": {},
   "outputs": [],
   "source": [
    "processed_df[\"Movement\"] = processed_df.Close - processed_df.Open"
   ]
  },
  {
   "cell_type": "code",
   "execution_count": null,
   "metadata": {},
   "outputs": [],
   "source": [
    "def classify_movement(x):\n",
    "    if x > 0:\n",
    "        return 1\n",
    "    elif x < 0:\n",
    "        return -1\n",
    "    else:\n",
    "        return 0"
   ]
  },
  {
   "cell_type": "code",
   "execution_count": null,
   "metadata": {},
   "outputs": [],
   "source": [
    "processed_df[\"Sign\"] = processed_df.Movement.apply(classify_movement)"
   ]
  },
  {
   "cell_type": "code",
   "execution_count": null,
   "metadata": {},
   "outputs": [],
   "source": [
    "processed_df_copy = processed_df.copy()"
   ]
  },
  {
   "cell_type": "code",
   "execution_count": null,
   "metadata": {},
   "outputs": [],
   "source": [
    "processed_df_copy.loc[processed_df_copy[\"Movement\"] > 0, \"test\"] = 1"
   ]
  },
  {
   "cell_type": "code",
   "execution_count": null,
   "metadata": {},
   "outputs": [],
   "source": [
    "processed_df_copy.loc[processed_df_copy[\"Movement\"] < 0, \"test\"] = -1"
   ]
  },
  {
   "cell_type": "code",
   "execution_count": null,
   "metadata": {},
   "outputs": [],
   "source": [
    "processed_df_copy[\"test\"]"
   ]
  },
  {
   "cell_type": "code",
   "execution_count": null,
   "metadata": {},
   "outputs": [],
   "source": [
    "print(f\"Distribution:\\n{processed_df.Sign.value_counts()}\")"
   ]
  },
  {
   "cell_type": "code",
   "execution_count": null,
   "metadata": {},
   "outputs": [],
   "source": [
    "processed_df[processed_df.Sign == 0]"
   ]
  },
  {
   "cell_type": "code",
   "execution_count": null,
   "metadata": {},
   "outputs": [],
   "source": [
    "def calculate_return(df):\n",
    "    sorted_df = df.sort_values(by=[\"Date\"])\n",
    "    return (\n",
    "        sorted_df.iloc[-1, sorted_df.columns.get_loc(\"Close\")]\n",
    "        / sorted_df.iloc[0, sorted_df.columns.get_loc(\"Open\")]\n",
    "        - 1\n",
    "    )"
   ]
  },
  {
   "cell_type": "code",
   "execution_count": null,
   "metadata": {},
   "outputs": [],
   "source": [
    "weekly_return = processed_df.groupby(pd.Grouper(key=\"Date\", freq=\"W\")).apply(\n",
    "    calculate_return\n",
    ")\n",
    "weekly_return.describe()"
   ]
  },
  {
   "cell_type": "code",
   "execution_count": null,
   "metadata": {},
   "outputs": [],
   "source": [
    "fig = ff.create_distplot([montly_return.values], group_labels=[\"Monthly Return\"])\n",
    "fig.update_layout(title_text=\"Hist and Curve Plot for Weekly Return\")\n",
    "fig.show()"
   ]
  },
  {
   "cell_type": "code",
   "execution_count": null,
   "metadata": {},
   "outputs": [],
   "source": [
    "fig = go.Figure(\n",
    "    data=go.Scatter(x=weekly_return.index, y=weekly_return.values, mode=\"lines+markers\")\n",
    ")\n",
    "fig.update_layout(title_text=\"Time Series Plot for Weekly Return\")\n",
    "fig.show()"
   ]
  },
  {
   "cell_type": "code",
   "execution_count": null,
   "metadata": {},
   "outputs": [],
   "source": [
    "montly_return = processed_df.groupby(pd.Grouper(key=\"Date\", freq=\"M\")).apply(\n",
    "    calculate_return\n",
    ")\n",
    "montly_return.describe()"
   ]
  },
  {
   "cell_type": "code",
   "execution_count": null,
   "metadata": {},
   "outputs": [],
   "source": [
    "fig = ff.create_distplot([montly_return.values], group_labels=[\"Monthly Return\"])\n",
    "fig.update_layout(title_text=\"Hist and Curve Plot for Monthly Return\")\n",
    "fig.show()"
   ]
  },
  {
   "cell_type": "code",
   "execution_count": null,
   "metadata": {},
   "outputs": [],
   "source": [
    "fig = go.Figure(\n",
    "    data=go.Scatter(x=montly_return.index, y=montly_return.values, mode=\"lines+markers\")\n",
    ")\n",
    "fig.update_layout(title_text=\"Time Series Plot for Monthly Return\")\n",
    "fig.show()"
   ]
  },
  {
   "cell_type": "code",
   "execution_count": null,
   "metadata": {},
   "outputs": [],
   "source": [
    "df = pd.read_parquet(\"../data_pipeline/data/processed_price.parquet\",)"
   ]
  },
  {
   "cell_type": "code",
   "execution_count": null,
   "metadata": {},
   "outputs": [],
   "source": [
    "df"
   ]
  },
  {
   "cell_type": "code",
   "execution_count": null,
   "metadata": {},
   "outputs": [],
   "source": [
    "df.info(memory_usage=\"deep\")"
   ]
  },
  {
   "cell_type": "code",
   "execution_count": null,
   "metadata": {},
   "outputs": [],
   "source": []
  }
 ],
 "metadata": {
  "kernelspec": {
   "display_name": "nlp_news_venv",
   "language": "python",
   "name": "nlp_news_venv"
  },
  "language_info": {
   "codemirror_mode": {
    "name": "ipython",
    "version": 3
   },
   "file_extension": ".py",
   "mimetype": "text/x-python",
   "name": "python",
   "nbconvert_exporter": "python",
   "pygments_lexer": "ipython3",
   "version": "3.7.1"
  }
 },
 "nbformat": 4,
 "nbformat_minor": 2
}
